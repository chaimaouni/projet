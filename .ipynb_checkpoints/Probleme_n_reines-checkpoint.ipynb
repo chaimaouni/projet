{
 "cells": [
  {
   "cell_type": "code",
   "execution_count": 6,
   "metadata": {},
   "outputs": [
    {
     "name": "stdout",
     "output_type": "stream",
     "text": [
      "Nombre des reines:4\n",
      "- Q - - \n",
      "\n",
      "- - - Q \n",
      "\n",
      "Q - - - \n",
      "\n",
      "- - Q - \n",
      "\n",
      "\n",
      "\n",
      "- - Q - \n",
      "\n",
      "Q - - - \n",
      "\n",
      "- - - Q \n",
      "\n",
      "- Q - - \n",
      "\n",
      "\n",
      "\n",
      "Il y a 2 solutions \n"
     ]
    }
   ],
   "source": [
    "N=int(input('Nombre des reines:'))\n",
    "echiquier= [[0]*N for _ in range(N)]\n",
    "\n",
    "\n",
    "count=0\n",
    "\n",
    "def Case_libre(echiquier,i,j,N):\n",
    "    for ligne in range(0,N):\n",
    "            for colonne in range(0,N):\n",
    "                if echiquier[ligne][colonne] == 1:\n",
    "                    if ((i == ligne) or\n",
    "                        (j == colonne) or\n",
    "                        (i - j == ligne - colonne) or\n",
    "                        (i + j == ligne + colonne)):\n",
    "                        return False\n",
    "    return True\n",
    "            \n",
    "   \n",
    "        \n",
    "        \n",
    "        \n",
    "def affichie_echiquier (echiquier,i,N) :\n",
    "    global count\n",
    "    for i in range(0,N):\n",
    "        for j in range(0,N):\n",
    "            if(echiquier[i][j]==1):\n",
    "                print('Q',end=' ')\n",
    "            else:\n",
    "                print('-',end=' ')\n",
    "        print('\\n')\n",
    "    print('\\n')\n",
    "    count=count+1\n",
    "    return False        \n",
    "\n",
    "\n",
    "def placer_toutes_reines(echiquier,i,N):\n",
    "    global count\n",
    "    if(i==N):\n",
    "        affichie_echiquier (echiquier,i,N)\n",
    "    else:      \n",
    "         for j in range(0,N):\n",
    "            if(Case_libre(echiquier,i,j,N)):\n",
    "                echiquier[i][j]=1\n",
    "                Reine_suivante=placer_toutes_reines(echiquier,i+1,N)\n",
    "                if(Reine_suivante):\n",
    "                    return True\n",
    "                echiquier[i][j]=0\n",
    "    return False\n",
    "        \n",
    "        \n",
    "\n",
    "placer_toutes_reines(echiquier,0,N)\n",
    "\n",
    "print(\"Il y a \",count,\" solutions \",sep='')"
   ]
  }
 ],
 "metadata": {
  "kernelspec": {
   "display_name": "Python 3",
   "language": "python",
   "name": "python3"
  },
  "language_info": {
   "codemirror_mode": {
    "name": "ipython",
    "version": 3
   },
   "file_extension": ".py",
   "mimetype": "text/x-python",
   "name": "python",
   "nbconvert_exporter": "python",
   "pygments_lexer": "ipython3",
   "version": "3.8.3"
  }
 },
 "nbformat": 4,
 "nbformat_minor": 4
}
