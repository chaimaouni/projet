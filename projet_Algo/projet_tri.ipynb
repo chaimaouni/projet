{
 "cells": [
  {
   "cell_type": "code",
   "execution_count": 1,
   "metadata": {},
   "outputs": [],
   "source": [
    "import numpy as np\n",
    "import random \n",
    "import time\n",
    "import matplotlib.pyplot as plt\n",
    "import pandas as pd "
   ]
  },
  {
   "cell_type": "markdown",
   "metadata": {},
   "source": [
    "# <font color=\"Indigo\" size=\"5\"/> Tri par selection:"
   ]
  },
  {
   "cell_type": "code",
   "execution_count": 159,
   "metadata": {},
   "outputs": [],
   "source": [
    "def triSelection(v):\n",
    "    for i in range(len(v)):\n",
    "        ind_min=i\n",
    "        for j in range(i+1, len(v)):\n",
    "            if(v[ind_min]>v[j]):\n",
    "                ind_min=j\n",
    "        aux=v[i]\n",
    "        v[i]=v[ind_min]\n",
    "        v[ind_min]=aux\n",
    "    #print(\"Tri par selection\")\n",
    "    #print(v)"
   ]
  },
  {
   "cell_type": "code",
   "execution_count": 165,
   "metadata": {},
   "outputs": [
    {
     "name": "stdout",
     "output_type": "stream",
     "text": [
      "58.003785610198975\n"
     ]
    }
   ],
   "source": [
    "tableau=[]\n",
    "\n",
    "for i in range(20000) :\n",
    "    \n",
    "    tableau.append(random.randint(1,100) )\n",
    "    \n",
    "debut = time.time()\n",
    "triSelection(tableau)\n",
    "fin = time.time()\n",
    "print(fin - debut)"
   ]
  },
  {
   "cell_type": "code",
   "execution_count": 78,
   "metadata": {},
   "outputs": [],
   "source": [
    "tepms_ex_s=np.array([[20000,47.959495544433594],[25000,73.47056365013123] ,[30000,125.52015805244446],[35000,163.2776117324829],[40000,186.34051752090454],[45000,228.04181361198425] ,[50000,269.4046185016632] ,[55000,341.4991807937622] ,[60000,433.92181420326233],[65000,488.5631968975067],[70000,568.4882590770721 ],[75000,684.467885017395 ],[80000, 720.8564748764038],[85000,881.0955348014832],[90000, 869.6578457355499],[95000, 1021.3994936943054 ],[100000,1181.5724294185638 ]])"
   ]
  },
  {
   "cell_type": "code",
   "execution_count": 79,
   "metadata": {},
   "outputs": [
    {
     "data": {
      "image/png": "[encoded data removed]",
      "text/plain": [
       "<Figure size 576x360 with 1 Axes>"
      ]
     },
     "metadata": {
      "needs_background": "light"
     },
     "output_type": "display_data"
    }
   ],
   "source": [
    "df = pd.DataFrame(tepms_ex_s,columns=['N','temps_exection'])\n",
    "plt.figure(figsize=(8,5))\n",
    "plt.plot(df['N'], df['temps_exection'],\"magenta\")\n",
    "\n",
    "plt.title(\"Tri par selection\")\n",
    "plt.xlabel(\"Taille de tableau\")\n",
    "plt.ylabel(\"Temps d'exécution \")\n",
    "plt.ylim(0, 1200) \n",
    "plt.grid()\n",
    "plt.show()"
   ]
  },
  {
   "cell_type": "markdown",
   "metadata": {},
   "source": [
    "# <font color=\"Indigo\" size=\"5\"/> Tri a bulles:"
   ]
  },
  {
   "cell_type": "code",
   "execution_count": 14,
   "metadata": {},
   "outputs": [],
   "source": [
    "def triBulle (v):\n",
    "    permut = True\n",
    "    p=len(v)-1\n",
    "    while (permut):\n",
    "        permut=False\n",
    "        for i in range(0,p):\n",
    "            if (v[i] > v[i+1]):\n",
    "                aux=v[i]\n",
    "                v[i]=v[i+1]\n",
    "                v[i+1]=aux\n",
    "                permut=True\n",
    "        p-=1\n",
    "   # print(\"Tri a bulles\")\n",
    "    #print(v)"
   ]
  },
  {
   "cell_type": "code",
   "execution_count": 41,
   "metadata": {},
   "outputs": [
    {
     "name": "stdout",
     "output_type": "stream",
     "text": [
      "1092.9498581886292\n"
     ]
    }
   ],
   "source": [
    "tableau=[]\n",
    "\n",
    "for i in range(60000) :\n",
    "    tableau.append(random.randint(1,100))\n",
    "    \n",
    "debut = time.time()\n",
    "triBulle(tableau)\n",
    "fin = time.time()\n",
    "print(fin - debut)"
   ]
  },
  {
   "cell_type": "code",
   "execution_count": 156,
   "metadata": {},
   "outputs": [],
   "source": [
    "tepms_ex_B=np.array([[20000,115.84339165687561],[25000,166.50238728523254] ,[30000,247.97505116462708],[35000,347.20780420303345],[40000,407.01709723472595],[45000,519.8244144916534] ,[50000,726.4503085613251] ,[55000,826.7020716667175] ,[60000,1092.9498581886292]])"
   ]
  },
  {
   "cell_type": "code",
   "execution_count": 157,
   "metadata": {},
   "outputs": [
    {
     "data": {
      "image/png": "[encoded data removed]",
      "text/plain": [
       "<Figure size 576x360 with 1 Axes>"
      ]
     },
     "metadata": {
      "needs_background": "light"
     },
     "output_type": "display_data"
    }
   ],
   "source": [
    "df = pd.DataFrame(tepms_ex_B,columns=['N','temps_exection'])\n",
    "plt.figure(figsize=(8,5))\n",
    "plt.plot(df['N'], df['temps_exection'],\"magenta\")\n",
    "\n",
    "plt.title(\"Tri a bulles\")\n",
    "plt.xlabel(\"Taille de tableau\")\n",
    "plt.ylabel(\"Temps d'exécution \")\n",
    "plt.ylim(0, 1200) \n",
    "plt.grid()\n",
    "plt.show()"
   ]
  },
  {
   "cell_type": "markdown",
   "metadata": {},
   "source": [
    "\n",
    "\n",
    "# <font color=\"Indigo\" size=\"5\"/> Tri par Insertion:"
   ]
  },
  {
   "cell_type": "code",
   "execution_count": 167,
   "metadata": {},
   "outputs": [],
   "source": [
    "def triInsertion (v):\n",
    "    p=len(v)-1\n",
    "    for i in range(0,p) :\n",
    "        x = v[i+1]\n",
    "        j=i\n",
    "        while((v[j] > x ) and (j>=0) ) :\n",
    "            v[j+1] = v[j]\n",
    "            j-= 1\n",
    "        v[j+1] = x\n",
    "   \n",
    "    #print(\"Tri par Insertion\")\n",
    "    #print(v)"
   ]
  },
  {
   "cell_type": "code",
   "execution_count": 168,
   "metadata": {},
   "outputs": [
    {
     "name": "stdout",
     "output_type": "stream",
     "text": [
      "65.53798151016235\n"
     ]
    }
   ],
   "source": [
    "tableau=[]\n",
    "\n",
    "for i in range(20000) :\n",
    "    tableau.append(random.randint(1,100))\n",
    "    \n",
    "debut = time.time()\n",
    "triInsertion(tableau)\n",
    "fin = time.time()\n",
    "print(fin - debut)"
   ]
  },
  {
   "cell_type": "code",
   "execution_count": 152,
   "metadata": {},
   "outputs": [],
   "source": [
    "tepms_ex_I=np.array([[20000,55.04103899002075],[25000,84.30340957641602] ,[30000,133.06774878501892],[35000,169.9799349308014],[40000,186.34051752090454],[45000,219.31232714653015] ,[50000,352.610773563385] ,[55000,410.6264169216156] ,[60000,498.1707293987274]])"
   ]
  },
  {
   "cell_type": "code",
   "execution_count": 154,
   "metadata": {},
   "outputs": [
    {
     "data": {
      "image/png": "[encoded data removed]",
      "text/plain": [
       "<Figure size 576x360 with 1 Axes>"
      ]
     },
     "metadata": {
      "needs_background": "light"
     },
     "output_type": "display_data"
    }
   ],
   "source": [
    "df = pd.DataFrame(tepms_ex_I,columns=['N','temps_exection'])\n",
    "plt.figure(figsize=(8,5))\n",
    "plt.plot(df['N'], df['temps_exection'],\"magenta\")\n",
    "plt.title(\"Tri par Insertion\")\n",
    "plt.xlabel(\"N Taille de tableau\")\n",
    "plt.ylabel(\"Temps d'exécution \")\n",
    "plt.ylim(0, 600) \n",
    "plt.grid()\n",
    "plt.show()"
   ]
  },
  {
   "cell_type": "markdown",
   "metadata": {},
   "source": [
    "\n",
    "\n",
    "# <font color=\"Indigo\" size=\"5\"/> Tri par fusion:"
   ]
  },
  {
   "cell_type": "code",
   "execution_count": 124,
   "metadata": {},
   "outputs": [],
   "source": [
    "def fusion(L1,L2):\n",
    "    n1 = len(L1)\n",
    "    n2 = len(L2)\n",
    "    L12 = [0]*(n1+n2)\n",
    "    i1 = 0\n",
    "    i2 = 0\n",
    "    i = 0\n",
    "    while i1<n1 and i2<n2:\n",
    "        if L1[i1] < L2[i2]:\n",
    "            L12[i] = L1[i1]\n",
    "            i1 += 1\n",
    "        else:\n",
    "            L12[i] = L2[i2]\n",
    "            i2 += 1\n",
    "        i += 1\n",
    "    while i1<n1:\n",
    "        L12[i] = L1[i1]\n",
    "        i1 += 1\n",
    "        i += 1\n",
    "    while i2<n2:\n",
    "        L12[i] = L2[i2]\n",
    "        i2 += 1\n",
    "        i += 1 \n",
    "    return L12\n",
    "def tri_fusion_recursif(L):\n",
    "    n = len(L)\n",
    "    if n > 1:\n",
    "        p = int(n/2)\n",
    "        L1 = L[0:p]\n",
    "        L2 = L[p:n]\n",
    "        tri_fusion_recursif(L1)\n",
    "        tri_fusion_recursif(L2)\n",
    "        L[:] = fusion(L1,L2)\n",
    "    \n",
    "def tri_fusion(L):\n",
    "    M = list(L)\n",
    "    tri_fusion_recursif(M)\n",
    "    return M\n",
    "\n",
    "\n"
   ]
  },
  {
   "cell_type": "code",
   "execution_count": 129,
   "metadata": {},
   "outputs": [
    {
     "name": "stdout",
     "output_type": "stream",
     "text": [
      "1.8348336219787598\n"
     ]
    }
   ],
   "source": [
    "tableau=[]\n",
    "\n",
    "for i in range(100000) :\n",
    "    tableau.append(random.randint(1,100))\n",
    "n=len(tableau)-1    \n",
    "debut = time.time()\n",
    "tri_fusion(tableau)\n",
    "fin = time.time()\n",
    "print(fin - debut)\n"
   ]
  },
  {
   "cell_type": "code",
   "execution_count": 147,
   "metadata": {},
   "outputs": [],
   "source": [
    "tepms_ex_F=np.array([[20000,0.29276013374328613],[25000,0.3841841220855713] ,[30000,0.4364168643951416],[35000,0.5154690742492676],[40000,0.6325714588165283],[45000,0.6474752426147461] ,[50000,0.7122817039489746] ,[55000,0.8522751331329346] ,[60000,0.8931689262390137],[65000,1.0017480850219727],[70000,1.053379774093628 ],[75000,1.2723767757415771 ],[80000,1.2896909713745117 ],[85000,1.4911904335021973],[90000, 1.5968613624572754],[95000, 1.7242388725280762 ],[100000,1.8348336219787598 ]])"
   ]
  },
  {
   "cell_type": "code",
   "execution_count": 151,
   "metadata": {},
   "outputs": [
    {
     "data": {
      "image/png": "[encoded data removed]",
      "text/plain": [
       "<Figure size 576x360 with 1 Axes>"
      ]
     },
     "metadata": {
      "needs_background": "light"
     },
     "output_type": "display_data"
    }
   ],
   "source": [
    "df = pd.DataFrame(tepms_ex_F,columns=['N','temps_exection'])\n",
    "plt.figure(figsize=(8,5))\n",
    "plt.plot(df['N'], df['temps_exection'],\"magenta\")\n",
    "plt.title(\"Tri par fusion\")\n",
    "plt.xlabel(\"N Taille de tableau\")\n",
    "plt.ylabel(\"Temps d'exécution \")\n",
    "plt.ylim(0, 4) \n",
    "plt.grid()\n",
    "plt.show()"
   ]
  },
  {
   "cell_type": "markdown",
   "metadata": {},
   "source": [
    "\n",
    "\n",
    "# <font color=\"Indigo\" size=\"5\"/> Tri rapide:"
   ]
  },
  {
   "cell_type": "code",
   "execution_count": 13,
   "metadata": {},
   "outputs": [],
   "source": [
    "def triRapide(v, debut, fin):\n",
    "\n",
    "    \n",
    "    if len(v) == 1:\n",
    "        return v\n",
    "    if debut < fin:\n",
    "\n",
    "        pivot = division(v, debut, fin)\n",
    "        triRapide(v, debut, pivot-1)\n",
    "        triRapide(v, pivot+1, fin)"
   ]
  },
  {
   "cell_type": "code",
   "execution_count": 15,
   "metadata": {},
   "outputs": [],
   "source": [
    "def division(v, debut, fin):\n",
    "        i = (debut-1) \n",
    "        pivot = v[fin]\n",
    "\n",
    "        for j in range(debut, fin):\n",
    "\n",
    "            if v[j] <= pivot:\n",
    "\n",
    "                i = i+1\n",
    "                v[i], v[j] = v[j], v[i]\n",
    "\n",
    "        v[i+1], v[fin] = v[fin], v[i+1]\n",
    "        return (i+1)"
   ]
  },
  {
   "cell_type": "code",
   "execution_count": 171,
   "metadata": {},
   "outputs": [
    {
     "name": "stdout",
     "output_type": "stream",
     "text": [
      "2.169461488723755\n"
     ]
    }
   ],
   "source": [
    "tableau=[]\n",
    "\n",
    "for i in range(25000) :\n",
    "    tableau.append(random.randint(1,100))\n",
    "n=len(tableau)-1    \n",
    "debut = time.time()\n",
    "triRapide(tableau,0,n)\n",
    "fin = time.time()\n",
    "print(fin - debut)"
   ]
  },
  {
   "cell_type": "code",
   "execution_count": 145,
   "metadata": {},
   "outputs": [],
   "source": [
    "tepms_ex_R=np.array([[20000,1.4084277153015137],[25000,2.169461488723755] ,[30000,2.370676040649414],[35000,4.352048397064209],[40000,5.53493332862854],[45000,6.979914903640747] ,[50000,8.156381607055664] ,[55000,11.149386644363403] ,[60000,13.684066534042358],[65000,14.280771255493164],[70000,15.789345026016235 ],[75000,21.053181409835815 ],[80000, 22.0752956867218 ],[85000,28.54465365409851],[90000, 29.766674041748047],[95000, 32.102428913116455 ],[100000,36.88773012161255 ]])"
   ]
  },
  {
   "cell_type": "code",
   "execution_count": 146,
   "metadata": {},
   "outputs": [
    {
     "data": {
      "image/png": "[encoded data removed]",
      "text/plain": [
       "<Figure size 576x360 with 1 Axes>"
      ]
     },
     "metadata": {
      "needs_background": "light"
     },
     "output_type": "display_data"
    }
   ],
   "source": [
    "df = pd.DataFrame(tepms_ex_R,columns=['N','temps_exection'])\n",
    "plt.figure(figsize=(8,5))\n",
    "plt.plot(df['N'], df['temps_exection'],\"magenta\")\n",
    "plt.title(\"Tri rapide\")\n",
    "plt.xlabel(\"N Taille de tableau\")\n",
    "plt.ylabel(\"Temps d'exécution \")\n",
    "plt.ylim(0, 50) \n",
    "plt.grid()\n",
    "plt.show()"
   ]
  },
  {
   "cell_type": "code",
   "execution_count": null,
   "metadata": {},
   "outputs": [],
   "source": []
  }
 ],
 "metadata": {
  "kernelspec": {
   "display_name": "Python 3",
   "language": "python",
   "name": "python3"
  },
  "language_info": {
   "codemirror_mode": {
    "name": "ipython",
    "version": 3
   },
   "file_extension": ".py",
   "mimetype": "text/x-python",
   "name": "python",
   "nbconvert_exporter": "python",
   "pygments_lexer": "ipython3",
   "version": "3.8.3"
  }
 },
 "nbformat": 4,
 "nbformat_minor": 4
}
